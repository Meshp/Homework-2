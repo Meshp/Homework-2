{
 "cells": [
  {
   "cell_type": "code",
   "execution_count": 40,
   "metadata": {},
   "outputs": [
    {
     "name": "stdout",
     "output_type": "stream",
     "text": [
      "{'date': '21/Mar/2018', 'time': '21:32:09', 'request_type': 'GET', 'url': 'https://sys.mail.ru/static/css/reset.css?asd=', 'protocol': 'HTTPS/1.1', 'response_code': '200', 'response_time': '1090'}\n"
     ]
    }
   ],
   "source": [
    "import re\n",
    "from datetime import datetime\n",
    "import time\n",
    "\n",
    "def check(line):\n",
    "    r = re.match(r'\\[(?P<date>\\d+/\\w+/\\d+) (?P<time>\\d+:\\d+:\\d+)\\] \\\"(?P<request_type>\\w+) (?P<url>[a-zA-Z0-9:\\=\\?\\#\\/\\.]+) (?P<protocol>\\w+/\\d+\\.\\d+)\\\" (?P<response_code>\\d+) (?P<response_time>\\d+)',line)\n",
    "    if r != None:\n",
    "        return r.groupdict()\n",
    "        \n",
    "    return None\n",
    "\n",
    "print(check('[21/Mar/2018 21:32:09] \"GET https://sys.mail.ru/static/css/reset.css?asd= HTTPS/1.1\" 200 1090'))\n",
    "\n",
    "def ignore_urls(line, ignore):\n",
    "    if line in ignore:\n",
    "        return True\n",
    "    return False\n",
    "    \n",
    "def start_at (data , start):\n",
    "    if datetime.strptime(data,\"%d/%b/%Y\") > datetime.strptime(start,\"%d/%b/%Y\"):\n",
    "        return True\n",
    "    return False\n",
    "\n",
    "def stop_at (data, stop):\n",
    "    if datetime.strptime(data,\"%d/%b/%Y\") < datetime.strptime(stop,\"%d/%b/%Y\"):\n",
    "        return True\n",
    "    return False\n",
    "\n",
    "def ignore_www(line):\n",
    "    i = re.search('www.', line)\n",
    "    if i!= None:\n",
    "        return line\n",
    "    line = line.replace('www.','',1)\n",
    "    return line  \n",
    "\n",
    "def request_type(line, req):\n",
    "    if line in req:\n",
    "        return True\n",
    "    return False\n",
    "    \n",
    "def ignore_files(line):\n",
    "    if '.' in url[url.rfind('/'):]:\n",
    "        return False\n",
    "    return True\n",
    "  \n",
    "\n",
    "\n",
    "def parse(\n",
    "    ignore_files=False,\n",
    "    ignore_urls=[],\n",
    "    start_at=None,\n",
    "    stop_at=None,\n",
    "    request_type=None,\n",
    "    ignore_www=False,\n",
    "    slow_queries=False\n",
    "):\n",
    "    f = open('log.log', 'r')\n",
    "    for lines in f:\n",
    "        d = check(line)\n",
    "        if d == None:\n",
    "            continue\n",
    "            \n",
    "       \n",
    "    return []\n",
    "\n"
   ]
  },
  {
   "cell_type": "code",
   "execution_count": null,
   "metadata": {},
   "outputs": [],
   "source": []
  }
 ],
 "metadata": {
  "kernelspec": {
   "display_name": "Python 3",
   "language": "python",
   "name": "python3"
  },
  "language_info": {
   "codemirror_mode": {
    "name": "ipython",
    "version": 3
   },
   "file_extension": ".py",
   "mimetype": "text/x-python",
   "name": "python",
   "nbconvert_exporter": "python",
   "pygments_lexer": "ipython3",
   "version": "3.6.6"
  }
 },
 "nbformat": 4,
 "nbformat_minor": 2
}
