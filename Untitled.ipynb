{
 "cells": [
  {
   "cell_type": "code",
   "execution_count": 7,
   "metadata": {},
   "outputs": [
    {
     "ename": "IndentationError",
     "evalue": "expected an indented block (<ipython-input-7-4c30eedee01d>, line 21)",
     "output_type": "error",
     "traceback": [
      "\u001b[0;36m  File \u001b[0;32m\"<ipython-input-7-4c30eedee01d>\"\u001b[0;36m, line \u001b[0;32m21\u001b[0m\n\u001b[0;31m    def parse(\u001b[0m\n\u001b[0m              ^\u001b[0m\n\u001b[0;31mIndentationError\u001b[0m\u001b[0;31m:\u001b[0m expected an indented block\n"
     ]
    }
   ],
   "source": [
    "import re\n",
    "from datetime import datetime\n",
    "import time\n",
    "from pyparsing import *\n",
    "\n",
    "\n",
    "def ignore_files(url):\n",
    "    res = re.match(r'File', line)\n",
    "    if result.group[0] == File:\n",
    "            return False\n",
    "    else: \n",
    "        return True\n",
    "\n",
    "def ignore_www(url):\n",
    "    a = url.find('www.')\n",
    "    \n",
    "        \n",
    "\n",
    "\n",
    "\n",
    "def parse(\n",
    "    ignore_files=False,\n",
    "    ignore_urls=[],\n",
    "    start_at=None,\n",
    "    stop_at=None,\n",
    "    request_type=None,\n",
    "    ignore_www=False,\n",
    "    slow_queries=False\n",
    "):\n",
    "    \n",
    "    return []"
   ]
  },
  {
   "cell_type": "code",
   "execution_count": null,
   "metadata": {},
   "outputs": [],
   "source": []
  }
 ],
 "metadata": {
  "kernelspec": {
   "display_name": "Python 3",
   "language": "python",
   "name": "python3"
  },
  "language_info": {
   "codemirror_mode": {
    "name": "ipython",
    "version": 3
   },
   "file_extension": ".py",
   "mimetype": "text/x-python",
   "name": "python",
   "nbconvert_exporter": "python",
   "pygments_lexer": "ipython3",
   "version": "3.6.6"
  }
 },
 "nbformat": 4,
 "nbformat_minor": 2
}
